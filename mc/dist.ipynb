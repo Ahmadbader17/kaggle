{
 "cells": [
  {
   "cell_type": "code",
   "execution_count": 24,
   "metadata": {},
   "outputs": [],
   "source": [
    "import pandas as pd \n",
    "import numpy as np "
   ]
  },
  {
   "cell_type": "code",
   "execution_count": 25,
   "metadata": {},
   "outputs": [],
   "source": [
    "from sklearn.ensemble import RandomForestClassifier\n",
    "from sklearn.metrics import roc_auc_score\n",
    "from sklearn.model_selection import cross_val_predict"
   ]
  },
  {
   "cell_type": "code",
   "execution_count": 26,
   "metadata": {},
   "outputs": [],
   "source": [
    "train = pd.read_csv('train.csv')\n",
    "test = pd.read_csv('test.csv')"
   ]
  },
  {
   "cell_type": "code",
   "execution_count": 27,
   "metadata": {},
   "outputs": [],
   "source": [
    "train.drop(columns=['NObeyesdad'], inplace=True)\n",
    "train.drop(columns=['id'], inplace=True)\n",
    "test.drop(columns=['id'], inplace=True)\n",
    "train.drop(columns=['CALC'], inplace=True)\n",
    "test.drop(columns=['CALC'], inplace=True)"
   ]
  },
  {
   "cell_type": "code",
   "execution_count": 28,
   "metadata": {},
   "outputs": [
    {
     "data": {
      "text/plain": [
       "Index(['Gender', 'Age', 'Height', 'Weight', 'family_history_with_overweight',\n",
       "       'FAVC', 'FCVC', 'NCP', 'CAEC', 'SMOKE', 'CH2O', 'SCC', 'FAF', 'TUE',\n",
       "       'MTRANS'],\n",
       "      dtype='object')"
      ]
     },
     "execution_count": 28,
     "metadata": {},
     "output_type": "execute_result"
    }
   ],
   "source": [
    "train.columns"
   ]
  },
  {
   "cell_type": "code",
   "execution_count": 29,
   "metadata": {},
   "outputs": [
    {
     "data": {
      "text/plain": [
       "Index(['Gender', 'Age', 'Height', 'Weight', 'family_history_with_overweight',\n",
       "       'FAVC', 'FCVC', 'NCP', 'CAEC', 'SMOKE', 'CH2O', 'SCC', 'FAF', 'TUE',\n",
       "       'MTRANS'],\n",
       "      dtype='object')"
      ]
     },
     "execution_count": 29,
     "metadata": {},
     "output_type": "execute_result"
    }
   ],
   "source": [
    "test.columns"
   ]
  },
  {
   "cell_type": "code",
   "execution_count": 30,
   "metadata": {},
   "outputs": [
    {
     "name": "stdout",
     "output_type": "stream",
     "text": [
      "   Gender\n",
      "0    Male\n",
      "1  Female\n",
      "  family_history_with_overweight\n",
      "0                            yes\n",
      "1                            yes\n",
      "  FAVC\n",
      "0  yes\n",
      "1  yes\n",
      "         CAEC\n",
      "0   Sometimes\n",
      "1  Frequently\n",
      "  SMOKE\n",
      "0    no\n",
      "1    no\n",
      "  SCC\n",
      "0  no\n",
      "1  no\n",
      "                  MTRANS\n",
      "0  Public_Transportation\n",
      "1             Automobile\n"
     ]
    }
   ],
   "source": [
    "categorical_columns = train.select_dtypes(include=['object'])\n",
    "for cat in categorical_columns:\n",
    "    print(pd.DataFrame(train[cat].head(2)))"
   ]
  },
  {
   "cell_type": "code",
   "execution_count": 31,
   "metadata": {},
   "outputs": [
    {
     "data": {
      "text/html": [
       "<div>\n",
       "<style scoped>\n",
       "    .dataframe tbody tr th:only-of-type {\n",
       "        vertical-align: middle;\n",
       "    }\n",
       "\n",
       "    .dataframe tbody tr th {\n",
       "        vertical-align: top;\n",
       "    }\n",
       "\n",
       "    .dataframe thead th {\n",
       "        text-align: right;\n",
       "    }\n",
       "</style>\n",
       "<table border=\"1\" class=\"dataframe\">\n",
       "  <thead>\n",
       "    <tr style=\"text-align: right;\">\n",
       "      <th></th>\n",
       "      <th>Gender</th>\n",
       "      <th>family_history_with_overweight</th>\n",
       "      <th>FAVC</th>\n",
       "      <th>CAEC</th>\n",
       "      <th>SMOKE</th>\n",
       "      <th>SCC</th>\n",
       "      <th>MTRANS</th>\n",
       "    </tr>\n",
       "  </thead>\n",
       "  <tbody>\n",
       "    <tr>\n",
       "      <th>0</th>\n",
       "      <td>Male</td>\n",
       "      <td>yes</td>\n",
       "      <td>yes</td>\n",
       "      <td>Sometimes</td>\n",
       "      <td>no</td>\n",
       "      <td>no</td>\n",
       "      <td>Public_Transportation</td>\n",
       "    </tr>\n",
       "    <tr>\n",
       "      <th>1</th>\n",
       "      <td>Female</td>\n",
       "      <td>yes</td>\n",
       "      <td>yes</td>\n",
       "      <td>Frequently</td>\n",
       "      <td>no</td>\n",
       "      <td>no</td>\n",
       "      <td>Automobile</td>\n",
       "    </tr>\n",
       "    <tr>\n",
       "      <th>2</th>\n",
       "      <td>Female</td>\n",
       "      <td>yes</td>\n",
       "      <td>yes</td>\n",
       "      <td>Sometimes</td>\n",
       "      <td>no</td>\n",
       "      <td>no</td>\n",
       "      <td>Public_Transportation</td>\n",
       "    </tr>\n",
       "    <tr>\n",
       "      <th>3</th>\n",
       "      <td>Female</td>\n",
       "      <td>yes</td>\n",
       "      <td>yes</td>\n",
       "      <td>Sometimes</td>\n",
       "      <td>no</td>\n",
       "      <td>no</td>\n",
       "      <td>Public_Transportation</td>\n",
       "    </tr>\n",
       "    <tr>\n",
       "      <th>4</th>\n",
       "      <td>Male</td>\n",
       "      <td>yes</td>\n",
       "      <td>yes</td>\n",
       "      <td>Sometimes</td>\n",
       "      <td>no</td>\n",
       "      <td>no</td>\n",
       "      <td>Public_Transportation</td>\n",
       "    </tr>\n",
       "  </tbody>\n",
       "</table>\n",
       "</div>"
      ],
      "text/plain": [
       "   Gender family_history_with_overweight FAVC        CAEC SMOKE SCC  \\\n",
       "0    Male                            yes  yes   Sometimes    no  no   \n",
       "1  Female                            yes  yes  Frequently    no  no   \n",
       "2  Female                            yes  yes   Sometimes    no  no   \n",
       "3  Female                            yes  yes   Sometimes    no  no   \n",
       "4    Male                            yes  yes   Sometimes    no  no   \n",
       "\n",
       "                  MTRANS  \n",
       "0  Public_Transportation  \n",
       "1             Automobile  \n",
       "2  Public_Transportation  \n",
       "3  Public_Transportation  \n",
       "4  Public_Transportation  "
      ]
     },
     "execution_count": 31,
     "metadata": {},
     "output_type": "execute_result"
    }
   ],
   "source": [
    "categorical_columns.head()"
   ]
  },
  {
   "cell_type": "code",
   "execution_count": 32,
   "metadata": {},
   "outputs": [
    {
     "name": "stdout",
     "output_type": "stream",
     "text": [
      "Gender\n",
      "family_history_with_overweight\n",
      "FAVC\n",
      "CAEC\n",
      "SMOKE\n",
      "SCC\n",
      "MTRANS\n"
     ]
    }
   ],
   "source": [
    "categorical_columns = train.select_dtypes(include=['object'])\n",
    "for cat in categorical_columns:\n",
    "    print(cat)"
   ]
  },
  {
   "cell_type": "code",
   "execution_count": 33,
   "metadata": {},
   "outputs": [
    {
     "name": "stdout",
     "output_type": "stream",
     "text": [
      "['Public_Transportation' 'Automobile' 'Walking' 'Motorbike' 'Bike']\n"
     ]
    }
   ],
   "source": [
    "t=train['MTRANS'].unique()\n",
    "print(t)"
   ]
  },
  {
   "cell_type": "code",
   "execution_count": 34,
   "metadata": {},
   "outputs": [],
   "source": [
    "from sklearn.preprocessing import LabelEncoder\n",
    "\n",
    "# Create a LabelEncoder instance\n",
    "label_encoder = LabelEncoder()\n",
    "\n",
    "train['Gender'] = label_encoder.fit_transform(train['Gender'])\n",
    "test['Gender'] = label_encoder.transform(test['Gender'])"
   ]
  },
  {
   "cell_type": "code",
   "execution_count": 35,
   "metadata": {},
   "outputs": [],
   "source": [
    "train['family_history_with_overweight'] = label_encoder.fit_transform(train['family_history_with_overweight'])\n",
    "test['family_history_with_overweight'] = label_encoder.transform(test['family_history_with_overweight'])"
   ]
  },
  {
   "cell_type": "code",
   "execution_count": 36,
   "metadata": {},
   "outputs": [],
   "source": [
    "train['FAVC'] = label_encoder.fit_transform(train['FAVC'])\n",
    "test['FAVC'] = label_encoder.transform(test['FAVC'])"
   ]
  },
  {
   "cell_type": "code",
   "execution_count": 37,
   "metadata": {},
   "outputs": [],
   "source": [
    "train['CAEC'] = label_encoder.fit_transform(train['CAEC'])\n",
    "test['CAEC'] = label_encoder.transform(test['CAEC'])"
   ]
  },
  {
   "cell_type": "code",
   "execution_count": 38,
   "metadata": {},
   "outputs": [],
   "source": [
    "train['SMOKE'] = label_encoder.fit_transform(train['SMOKE'])\n",
    "test['SMOKE'] = label_encoder.transform(test['SMOKE'])"
   ]
  },
  {
   "cell_type": "code",
   "execution_count": 39,
   "metadata": {},
   "outputs": [],
   "source": [
    "train['SCC'] = label_encoder.fit_transform(train['SCC'])\n",
    "test['SCC'] = label_encoder.transform(test['SCC'])"
   ]
  },
  {
   "cell_type": "code",
   "execution_count": 40,
   "metadata": {},
   "outputs": [],
   "source": [
    "train['MTRANS'] = label_encoder.fit_transform(train['MTRANS'])\n",
    "test['MTRANS'] = label_encoder.transform(test['MTRANS'])"
   ]
  },
  {
   "cell_type": "code",
   "execution_count": 41,
   "metadata": {},
   "outputs": [
    {
     "name": "stdout",
     "output_type": "stream",
     "text": [
      "<class 'pandas.core.frame.DataFrame'>\n",
      "RangeIndex: 13840 entries, 0 to 13839\n",
      "Data columns (total 15 columns):\n",
      " #   Column                          Non-Null Count  Dtype  \n",
      "---  ------                          --------------  -----  \n",
      " 0   Gender                          13840 non-null  int64  \n",
      " 1   Age                             13840 non-null  float64\n",
      " 2   Height                          13840 non-null  float64\n",
      " 3   Weight                          13840 non-null  float64\n",
      " 4   family_history_with_overweight  13840 non-null  int64  \n",
      " 5   FAVC                            13840 non-null  int64  \n",
      " 6   FCVC                            13840 non-null  float64\n",
      " 7   NCP                             13840 non-null  float64\n",
      " 8   CAEC                            13840 non-null  int64  \n",
      " 9   SMOKE                           13840 non-null  int64  \n",
      " 10  CH2O                            13840 non-null  float64\n",
      " 11  SCC                             13840 non-null  int64  \n",
      " 12  FAF                             13840 non-null  float64\n",
      " 13  TUE                             13840 non-null  float64\n",
      " 14  MTRANS                          13840 non-null  int64  \n",
      "dtypes: float64(8), int64(7)\n",
      "memory usage: 1.6 MB\n"
     ]
    }
   ],
   "source": [
    "test.info()"
   ]
  },
  {
   "cell_type": "code",
   "execution_count": 42,
   "metadata": {},
   "outputs": [
    {
     "name": "stdout",
     "output_type": "stream",
     "text": [
      "<class 'pandas.core.frame.DataFrame'>\n",
      "RangeIndex: 20758 entries, 0 to 20757\n",
      "Data columns (total 15 columns):\n",
      " #   Column                          Non-Null Count  Dtype  \n",
      "---  ------                          --------------  -----  \n",
      " 0   Gender                          20758 non-null  int64  \n",
      " 1   Age                             20758 non-null  float64\n",
      " 2   Height                          20758 non-null  float64\n",
      " 3   Weight                          20758 non-null  float64\n",
      " 4   family_history_with_overweight  20758 non-null  int64  \n",
      " 5   FAVC                            20758 non-null  int64  \n",
      " 6   FCVC                            20758 non-null  float64\n",
      " 7   NCP                             20758 non-null  float64\n",
      " 8   CAEC                            20758 non-null  int64  \n",
      " 9   SMOKE                           20758 non-null  int64  \n",
      " 10  CH2O                            20758 non-null  float64\n",
      " 11  SCC                             20758 non-null  int64  \n",
      " 12  FAF                             20758 non-null  float64\n",
      " 13  TUE                             20758 non-null  float64\n",
      " 14  MTRANS                          20758 non-null  int64  \n",
      "dtypes: float64(8), int64(7)\n",
      "memory usage: 2.4 MB\n"
     ]
    }
   ],
   "source": [
    "train.info()"
   ]
  },
  {
   "cell_type": "code",
   "execution_count": 43,
   "metadata": {},
   "outputs": [],
   "source": [
    "# train = train.fillna(-1).drop([\"id\", \"NObeyesdad\"], axis=1)\n",
    "# test = test.fillna(-1).drop([\"id\"], axis=1)"
   ]
  },
  {
   "cell_type": "code",
   "execution_count": 44,
   "metadata": {},
   "outputs": [],
   "source": [
    "X = pd.concat([train, test], ignore_index=True)\n",
    "y = [0] * len(train) + [1] * len(test)"
   ]
  },
  {
   "cell_type": "code",
   "execution_count": 45,
   "metadata": {},
   "outputs": [],
   "source": [
    "# print(type(train))\n",
    "# print(type(test))\n"
   ]
  },
  {
   "cell_type": "code",
   "execution_count": 46,
   "metadata": {},
   "outputs": [
    {
     "name": "stdout",
     "output_type": "stream",
     "text": [
      "0.49765679866025603\n"
     ]
    }
   ],
   "source": [
    "model = RandomForestClassifier()\n",
    "cv_preds = cross_val_predict(model, X, y, cv=5, n_jobs=-1,method='predict_proba')\n",
    "print(roc_auc_score(y_true=y, y_score=cv_preds[:,1]))"
   ]
  },
  {
   "cell_type": "markdown",
   "metadata": {},
   "source": [
    "## We see that the training and test data are both from the same distribution, as we get an AUC score 0f 0.49 which tells us that the two data sets are indistiguisahble"
   ]
  }
 ],
 "metadata": {
  "kernelspec": {
   "display_name": "Python 3",
   "language": "python",
   "name": "python3"
  },
  "language_info": {
   "codemirror_mode": {
    "name": "ipython",
    "version": 3
   },
   "file_extension": ".py",
   "mimetype": "text/x-python",
   "name": "python",
   "nbconvert_exporter": "python",
   "pygments_lexer": "ipython3",
   "version": "3.11.4"
  }
 },
 "nbformat": 4,
 "nbformat_minor": 2
}
