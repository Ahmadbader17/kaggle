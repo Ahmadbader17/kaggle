{
  "metadata": {
    "kaggle": {
      "accelerator": "none",
      "dataSources": [
        {
          "sourceId": 65711,
          "databundleVersionId": 7405009,
          "sourceType": "competition"
        },
        {
          "sourceId": 3322096,
          "sourceType": "datasetVersion",
          "datasetId": 2008274
        }
      ],
      "isInternetEnabled": true,
      "language": "python",
      "sourceType": "notebook",
      "isGpuEnabled": false
    },
    "kernelspec": {
      "display_name": "Python 3",
      "language": "python",
      "name": "python3"
    },
    "language_info": {
      "codemirror_mode": {
        "name": "ipython",
        "version": 3
      },
      "file_extension": ".py",
      "mimetype": "text/x-python",
      "name": "python",
      "nbconvert_exporter": "python",
      "pygments_lexer": "ipython3",
      "version": "3.10.12"
    },
    "papermill": {
      "default_parameters": {},
      "duration": 39811.150837,
      "end_time": "2024-01-30T13:13:31.738848",
      "environment_variables": {},
      "exception": null,
      "input_path": "__notebook__.ipynb",
      "output_path": "__notebook__.ipynb",
      "parameters": {},
      "start_time": "2024-01-30T02:10:00.588011",
      "version": "2.4.0"
    },
    "colab": {
      "name": "3rd Place Solution",
      "provenance": []
    }
  },
  "nbformat_minor": 0,
  "nbformat": 4,
  "cells": [
    {
      "source": [
        "\n",
        "# IMPORTANT: RUN THIS CELL IN ORDER TO IMPORT YOUR KAGGLE DATA SOURCES\n",
        "# TO THE CORRECT LOCATION (/kaggle/input) IN YOUR NOTEBOOK,\n",
        "# THEN FEEL FREE TO DELETE THIS CELL.\n",
        "# NOTE: THIS NOTEBOOK ENVIRONMENT DIFFERS FROM KAGGLE'S PYTHON\n",
        "# ENVIRONMENT SO THERE MAY BE MISSING LIBRARIES USED BY YOUR\n",
        "# NOTEBOOK.\n",
        "\n",
        "import os\n",
        "import sys\n",
        "from tempfile import NamedTemporaryFile\n",
        "from urllib.request import urlopen\n",
        "from urllib.parse import unquote, urlparse\n",
        "from urllib.error import HTTPError\n",
        "from zipfile import ZipFile\n",
        "import tarfile\n",
        "import shutil\n",
        "\n",
        "CHUNK_SIZE = 40960\n",
        "DATA_SOURCE_MAPPING = 'playground-series-s4e1:https%3A%2F%2Fstorage.googleapis.com%2Fkaggle-competitions-data%2Fkaggle-v2%2F65711%2F7405009%2Fbundle%2Farchive.zip%3FX-Goog-Algorithm%3DGOOG4-RSA-SHA256%26X-Goog-Credential%3Dgcp-kaggle-com%2540kaggle-161607.iam.gserviceaccount.com%252F20240203%252Fauto%252Fstorage%252Fgoog4_request%26X-Goog-Date%3D20240203T064141Z%26X-Goog-Expires%3D259200%26X-Goog-SignedHeaders%3Dhost%26X-Goog-Signature%3D026d3a94d52a27f1e85936c037e31126c66caecba09bf3328d3820f4f6c7077d73cd8df1ac198d0abf5dd17d5f2abc8ce1576c8214ff8862ac566390764ee2725d22623bf358316581a1de489f50854083b520f67e799c988a2a9ca22b67f50a6d46362b08c456d4c6841c6a827152d7482b48638b2d9392434c6dcf4a97e75b8979f1c5baf10ec98bf091e8aaf53dd679e15c3d011fd4a5ad72d66188da08dbb59d10d16534771f50aba131b25e967aec4f5e80949f40bf16accc5a1f88538f002b52c92702e69bc0dbc0dfdc0f9cfadc3fc0d3de5d22bcced1da465ed43e9f69696d56379ada72e371b09670630c722e689235598df3c0aa4938016d9b5f1f,bank-customer-churn-prediction:https%3A%2F%2Fstorage.googleapis.com%2Fkaggle-data-sets%2F2008274%2F3322096%2Fbundle%2Farchive.zip%3FX-Goog-Algorithm%3DGOOG4-RSA-SHA256%26X-Goog-Credential%3Dgcp-kaggle-com%2540kaggle-161607.iam.gserviceaccount.com%252F20240203%252Fauto%252Fstorage%252Fgoog4_request%26X-Goog-Date%3D20240203T064141Z%26X-Goog-Expires%3D259200%26X-Goog-SignedHeaders%3Dhost%26X-Goog-Signature%3D66b65644a36372fc38d67f755faedee55592e80bfed0c63ccbb2beba908b6e3ce97128e26e3bf20bcfdd5eecc5f8301adc4e6407fa5ffab90c91401b35a278812bd3ebfff39544d53eaacd99233761f6771f1806991c4a03a30a98e1d39f7d348017c2cb97d7eab0165e7ed6cae4e664e91c5dc68d2286d9a5718681058b02fe076f948aeb1aaee1d13ffb848dc9f8e7d3fc11fbb093ce47ac197f0dff544642ed71d2a38009cc030b71ded74468bd45b63538c9e1e415cfde87fc082f1a3ac2cb0ef0fea2668344d22362e6615dcaaa9979a6874b4b5eb9e7c00d5ce0c10cf83eb071083456c007003ff7d0843a275b1d7ba887cf1a419cc889271d132c7ded'\n",
        "\n",
        "KAGGLE_INPUT_PATH='/kaggle/input'\n",
        "KAGGLE_WORKING_PATH='/kaggle/working'\n",
        "KAGGLE_SYMLINK='kaggle'\n",
        "\n",
        "!umount /kaggle/input/ 2> /dev/null\n",
        "shutil.rmtree('/kaggle/input', ignore_errors=True)\n",
        "os.makedirs(KAGGLE_INPUT_PATH, 0o777, exist_ok=True)\n",
        "os.makedirs(KAGGLE_WORKING_PATH, 0o777, exist_ok=True)\n",
        "\n",
        "try:\n",
        "  os.symlink(KAGGLE_INPUT_PATH, os.path.join(\"..\", 'input'), target_is_directory=True)\n",
        "except FileExistsError:\n",
        "  pass\n",
        "try:\n",
        "  os.symlink(KAGGLE_WORKING_PATH, os.path.join(\"..\", 'working'), target_is_directory=True)\n",
        "except FileExistsError:\n",
        "  pass\n",
        "\n",
        "for data_source_mapping in DATA_SOURCE_MAPPING.split(','):\n",
        "    directory, download_url_encoded = data_source_mapping.split(':')\n",
        "    download_url = unquote(download_url_encoded)\n",
        "    filename = urlparse(download_url).path\n",
        "    destination_path = os.path.join(KAGGLE_INPUT_PATH, directory)\n",
        "    try:\n",
        "        with urlopen(download_url) as fileres, NamedTemporaryFile() as tfile:\n",
        "            total_length = fileres.headers['content-length']\n",
        "            print(f'Downloading {directory}, {total_length} bytes compressed')\n",
        "            dl = 0\n",
        "            data = fileres.read(CHUNK_SIZE)\n",
        "            while len(data) > 0:\n",
        "                dl += len(data)\n",
        "                tfile.write(data)\n",
        "                done = int(50 * dl / int(total_length))\n",
        "                sys.stdout.write(f\"\\r[{'=' * done}{' ' * (50-done)}] {dl} bytes downloaded\")\n",
        "                sys.stdout.flush()\n",
        "                data = fileres.read(CHUNK_SIZE)\n",
        "            if filename.endswith('.zip'):\n",
        "              with ZipFile(tfile) as zfile:\n",
        "                zfile.extractall(destination_path)\n",
        "            else:\n",
        "              with tarfile.open(tfile.name) as tarfile:\n",
        "                tarfile.extractall(destination_path)\n",
        "            print(f'\\nDownloaded and uncompressed: {directory}')\n",
        "    except HTTPError as e:\n",
        "        print(f'Failed to load (likely expired) {download_url} to path {destination_path}')\n",
        "        continue\n",
        "    except OSError as e:\n",
        "        print(f'Failed to load {download_url} to path {destination_path}')\n",
        "        continue\n",
        "\n",
        "print('Data source import complete.')\n"
      ],
      "metadata": {
        "id": "b4_9-GPhs6PU"
      },
      "cell_type": "code",
      "outputs": [],
      "execution_count": null
    },
    {
      "cell_type": "markdown",
      "source": [
        "# Introduction\n",
        "\n",
        "Welcome to Binary Classification with Bank Churn Dataset competition! Here we will predict a customer churn based on their information. The dataset contains 13 columns:\n",
        "\n",
        "1. Customer ID: A unique identifier for each customer\n",
        "2. Surname: The customer's surname or last name\n",
        "3. Credit Score: A numerical value representing the customer's credit score\n",
        "4. Geography: The country where the customer resides (France, Spain or Germany)\n",
        "5. Gender: The customer's gender (Male or Female)\n",
        "6. Age: The customer's age.\n",
        "7. Tenure: The number of years the customer has been with the bank\n",
        "8. Balance: The customer's account balance\n",
        "9. NumOfProducts: The number of bank products the customer uses (e.g., savings account, credit card)\n",
        "10. HasCrCard: Whether the customer has a credit card (1 = yes, 0 = no)\n",
        "11. IsActiveMember: Whether the customer is an active member (1 = yes, 0 = no)\n",
        "12. EstimatedSalary: The estimated salary of the customer\n",
        "13. Exited: Whether the customer has churned (1 = yes, 0 = no)\n",
        "\n",
        "The metric we will use is Area Under the ROC Curve. If you want to read the description of the original dataset, you can visit this page: https://www.kaggle.com/datasets/shantanudhakadd/bank-customer-churn-prediction"
      ],
      "metadata": {
        "papermill": {
          "duration": 0.010889,
          "end_time": "2024-01-30T02:10:04.314075",
          "exception": false,
          "start_time": "2024-01-30T02:10:04.303186",
          "status": "completed"
        },
        "tags": [],
        "id": "S0ZsOxJ9s6PW"
      }
    },
    {
      "cell_type": "markdown",
      "source": [
        "# Loading Libraries and Datasets"
      ],
      "metadata": {
        "papermill": {
          "duration": 0.010726,
          "end_time": "2024-01-30T02:10:04.335407",
          "exception": false,
          "start_time": "2024-01-30T02:10:04.324681",
          "status": "completed"
        },
        "tags": [],
        "id": "0UUYwfaXs6PY"
      }
    },
    {
      "cell_type": "code",
      "source": [
        "import numpy as np\n",
        "import pandas as pd\n",
        "import matplotlib.pyplot as plt\n",
        "import seaborn as sns\n",
        "import tensorflow as tf\n",
        "import optuna\n",
        "\n",
        "from category_encoders import OneHotEncoder, MEstimateEncoder, CatBoostEncoder, OrdinalEncoder\n",
        "from sklearn import set_config\n",
        "from sklearn.inspection import permutation_importance\n",
        "from sklearn.model_selection import StratifiedKFold, RepeatedStratifiedKFold\n",
        "from sklearn.feature_selection import SequentialFeatureSelector\n",
        "from sklearn.ensemble import RandomForestRegressor, IsolationForest\n",
        "from sklearn.metrics import roc_auc_score, roc_curve, make_scorer, f1_score\n",
        "from sklearn.experimental import enable_iterative_imputer\n",
        "from sklearn.impute import SimpleImputer, IterativeImputer, KNNImputer\n",
        "from sklearn.metrics.pairwise import euclidean_distances\n",
        "from sklearn.pipeline import Pipeline, make_pipeline\n",
        "from sklearn.base import BaseEstimator, TransformerMixin, ClassifierMixin, clone\n",
        "from sklearn.preprocessing import FunctionTransformer, StandardScaler, LabelEncoder\n",
        "from sklearn.feature_extraction.text import TfidfVectorizer\n",
        "from sklearn.decomposition import PCA, TruncatedSVD\n",
        "from sklearn.compose import ColumnTransformer\n",
        "from sklearn.linear_model import LogisticRegression, RidgeClassifier, RidgeClassifierCV\n",
        "from sklearn.naive_bayes import GaussianNB, BernoulliNB\n",
        "from sklearn.neighbors import KNeighborsClassifier\n",
        "from sklearn.ensemble import RandomForestClassifier, ExtraTreesClassifier\n",
        "from sklearn.ensemble import HistGradientBoostingClassifier, GradientBoostingClassifier, AdaBoostClassifier\n",
        "from sklearn.ensemble import VotingClassifier, StackingClassifier\n",
        "from sklearn.svm import SVC\n",
        "from sklearn.neighbors import KNeighborsClassifier\n",
        "from sklearn.discriminant_analysis import LinearDiscriminantAnalysis, QuadraticDiscriminantAnalysis\n",
        "from sklearn.gaussian_process import GaussianProcessClassifier\n",
        "from scipy.cluster.hierarchy import dendrogram, linkage\n",
        "from scipy.spatial.distance import squareform\n",
        "from xgboost import XGBClassifier, XGBRFClassifier\n",
        "from lightgbm import LGBMClassifier\n",
        "from catboost import CatBoostClassifier\n",
        "\n",
        "sns.set_theme(style = 'white', palette = 'viridis')\n",
        "pal = sns.color_palette('viridis')\n",
        "\n",
        "pd.set_option('display.max_rows', 100)\n",
        "set_config(transform_output = 'pandas')\n",
        "pd.options.mode.chained_assignment = None"
      ],
      "metadata": {
        "_kg_hide-input": false,
        "_kg_hide-output": true,
        "execution": {
          "iopub.execute_input": "2024-01-30T02:10:04.359944Z",
          "iopub.status.busy": "2024-01-30T02:10:04.359261Z",
          "iopub.status.idle": "2024-01-30T02:10:22.756059Z",
          "shell.execute_reply": "2024-01-30T02:10:22.75492Z"
        },
        "papermill": {
          "duration": 18.411988,
          "end_time": "2024-01-30T02:10:22.758176",
          "exception": false,
          "start_time": "2024-01-30T02:10:04.346188",
          "status": "completed"
        },
        "tags": [],
        "id": "4UBXq7zOs6PY"
      },
      "execution_count": null,
      "outputs": []
    },
    {
      "cell_type": "code",
      "source": [
        "train = pd.read_csv(r'/kaggle/input/playground-series-s4e1/train.csv', index_col = 'id').astype({'IsActiveMember' : np.uint8, 'HasCrCard' : np.uint8})\n",
        "test = pd.read_csv(r'/kaggle/input/playground-series-s4e1/test.csv', index_col = 'id').astype({'IsActiveMember' : np.uint8, 'HasCrCard' : np.uint8})\n",
        "orig_train = pd.read_csv(r'/kaggle/input/bank-customer-churn-prediction/Churn_Modelling.csv', index_col = 'RowNumber')"
      ],
      "metadata": {
        "_kg_hide-input": false,
        "execution": {
          "iopub.execute_input": "2024-01-30T02:10:22.780509Z",
          "iopub.status.busy": "2024-01-30T02:10:22.780084Z",
          "iopub.status.idle": "2024-01-30T02:10:23.332132Z",
          "shell.execute_reply": "2024-01-30T02:10:23.330805Z"
        },
        "papermill": {
          "duration": 0.566205,
          "end_time": "2024-01-30T02:10:23.334711",
          "exception": false,
          "start_time": "2024-01-30T02:10:22.768506",
          "status": "completed"
        },
        "tags": [],
        "id": "_t2NI1Y9s6PZ"
      },
      "execution_count": null,
      "outputs": []
    },
    {
      "cell_type": "markdown",
      "source": [
        "# Descriptive Statistics\n",
        "\n",
        "Let's begin by taking a peek at our training dataset first"
      ],
      "metadata": {
        "papermill": {
          "duration": 0.010461,
          "end_time": "2024-01-30T02:10:23.355659",
          "exception": false,
          "start_time": "2024-01-30T02:10:23.345198",
          "status": "completed"
        },
        "tags": [],
        "id": "Kfo8BK4bs6PZ"
      }
    },
    {
      "cell_type": "code",
      "source": [
        "train.head(10)"
      ],
      "metadata": {
        "_kg_hide-input": true,
        "execution": {
          "iopub.execute_input": "2024-01-30T02:10:23.377865Z",
          "iopub.status.busy": "2024-01-30T02:10:23.377511Z",
          "iopub.status.idle": "2024-01-30T02:10:23.401317Z",
          "shell.execute_reply": "2024-01-30T02:10:23.400347Z"
        },
        "papermill": {
          "duration": 0.037107,
          "end_time": "2024-01-30T02:10:23.403288",
          "exception": false,
          "start_time": "2024-01-30T02:10:23.366181",
          "status": "completed"
        },
        "tags": [],
        "id": "Fm24GncMs6PZ"
      },
      "execution_count": null,
      "outputs": []
    },
    {
      "cell_type": "code",
      "source": [
        "desc = pd.DataFrame(index = list(train))\n",
        "desc['type'] = train.dtypes\n",
        "desc['count'] = train.count()\n",
        "desc['nunique'] = train.nunique()\n",
        "desc['%unique'] = desc['nunique'] / len(train) * 100\n",
        "desc['null'] = train.isnull().sum()\n",
        "desc['%null'] = desc['null'] / len(train) * 100\n",
        "desc['min'] = train.min()\n",
        "desc['max'] = train.max()\n",
        "desc"
      ],
      "metadata": {
        "_kg_hide-input": true,
        "execution": {
          "iopub.execute_input": "2024-01-30T02:10:23.4264Z",
          "iopub.status.busy": "2024-01-30T02:10:23.426071Z",
          "iopub.status.idle": "2024-01-30T02:10:23.588319Z",
          "shell.execute_reply": "2024-01-30T02:10:23.587478Z"
        },
        "papermill": {
          "duration": 0.17629,
          "end_time": "2024-01-30T02:10:23.59046",
          "exception": false,
          "start_time": "2024-01-30T02:10:23.41417",
          "status": "completed"
        },
        "tags": [],
        "id": "GHi_dv-ds6PZ"
      },
      "execution_count": null,
      "outputs": []
    },
    {
      "cell_type": "markdown",
      "source": [
        "We can see that we have 165k rows and 13 columns, including our target here, which makes it 12 features, with at least 3 of them being categorical.\n",
        "\n",
        "Let's see the test dataset now."
      ],
      "metadata": {
        "papermill": {
          "duration": 0.010739,
          "end_time": "2024-01-30T02:10:23.612313",
          "exception": false,
          "start_time": "2024-01-30T02:10:23.601574",
          "status": "completed"
        },
        "tags": [],
        "id": "f7lX1Nkts6Pa"
      }
    },
    {
      "cell_type": "code",
      "source": [
        "test.head(10)"
      ],
      "metadata": {
        "_kg_hide-input": true,
        "execution": {
          "iopub.execute_input": "2024-01-30T02:10:23.636313Z",
          "iopub.status.busy": "2024-01-30T02:10:23.635679Z",
          "iopub.status.idle": "2024-01-30T02:10:23.65075Z",
          "shell.execute_reply": "2024-01-30T02:10:23.649496Z"
        },
        "papermill": {
          "duration": 0.029698,
          "end_time": "2024-01-30T02:10:23.65294",
          "exception": false,
          "start_time": "2024-01-30T02:10:23.623242",
          "status": "completed"
        },
        "tags": [],
        "id": "lI3ePQ_us6Pa"
      },
      "execution_count": null,
      "outputs": []
    },
    {
      "cell_type": "code",
      "source": [
        "desc = pd.DataFrame(index = list(test))\n",
        "desc['type'] = test.dtypes\n",
        "desc['count'] = test.count()\n",
        "desc['nunique'] = test.nunique()\n",
        "desc['%unique'] = desc['nunique'] / len(test) * 100\n",
        "desc['null'] = test.isnull().sum()\n",
        "desc['%null'] = desc['null'] / len(test) * 100\n",
        "desc['min'] = test.min()\n",
        "desc['max'] = test.max()\n",
        "desc"
      ],
      "metadata": {
        "_kg_hide-input": true,
        "execution": {
          "iopub.execute_input": "2024-01-30T02:10:23.677615Z",
          "iopub.status.busy": "2024-01-30T02:10:23.677019Z",
          "iopub.status.idle": "2024-01-30T02:10:23.787347Z",
          "shell.execute_reply": "2024-01-30T02:10:23.786152Z"
        },
        "papermill": {
          "duration": 0.124859,
          "end_time": "2024-01-30T02:10:23.789108",
          "exception": false,
          "start_time": "2024-01-30T02:10:23.664249",
          "status": "completed"
        },
        "tags": [],
        "id": "PN0Vf90Ns6Pa"
      },
      "execution_count": null,
      "outputs": []
    },
    {
      "cell_type": "markdown",
      "source": [
        "On the test dataset, we have 110k rows. There is also no missing value on both.\n",
        "\n",
        "Finally, let's try to see the original dataset."
      ],
      "metadata": {
        "papermill": {
          "duration": 0.011614,
          "end_time": "2024-01-30T02:10:23.813226",
          "exception": false,
          "start_time": "2024-01-30T02:10:23.801612",
          "status": "completed"
        },
        "tags": [],
        "id": "H0CKLJhFs6Pa"
      }
    },
    {
      "cell_type": "code",
      "source": [
        "orig_train.head(10)"
      ],
      "metadata": {
        "_kg_hide-input": true,
        "execution": {
          "iopub.execute_input": "2024-01-30T02:10:23.891728Z",
          "iopub.status.busy": "2024-01-30T02:10:23.891391Z",
          "iopub.status.idle": "2024-01-30T02:10:23.906542Z",
          "shell.execute_reply": "2024-01-30T02:10:23.905746Z"
        },
        "papermill": {
          "duration": 0.029373,
          "end_time": "2024-01-30T02:10:23.908115",
          "exception": false,
          "start_time": "2024-01-30T02:10:23.878742",
          "status": "completed"
        },
        "tags": [],
        "id": "3_QgTHZ5s6Pa"
      },
      "execution_count": null,
      "outputs": []
    },
    {
      "cell_type": "code",
      "source": [
        "desc = pd.DataFrame(index = list(orig_train))\n",
        "desc['type'] = orig_train.dtypes\n",
        "desc['count'] = orig_train.count()\n",
        "desc['nunique'] = orig_train.nunique()\n",
        "desc['%unique'] = desc['nunique'] / len(orig_train) * 100\n",
        "desc['null'] = orig_train.isnull().sum()\n",
        "desc['%null'] = desc['null'] / len(orig_train) * 100\n",
        "desc['min'] = orig_train.min()\n",
        "desc['max'] = orig_train.max()\n",
        "desc"
      ],
      "metadata": {
        "_kg_hide-input": true,
        "execution": {
          "iopub.execute_input": "2024-01-30T02:10:23.93321Z",
          "iopub.status.busy": "2024-01-30T02:10:23.932831Z",
          "iopub.status.idle": "2024-01-30T02:10:23.965409Z",
          "shell.execute_reply": "2024-01-30T02:10:23.964453Z"
        },
        "papermill": {
          "duration": 0.047824,
          "end_time": "2024-01-30T02:10:23.967679",
          "exception": false,
          "start_time": "2024-01-30T02:10:23.919855",
          "status": "completed"
        },
        "tags": [],
        "id": "HZiodNcMs6Pb"
      },
      "execution_count": null,
      "outputs": []
    },
    {
      "cell_type": "code",
      "source": [
        "numerical_features = list(test._get_numeric_data())\n",
        "categorical_features = list(test.drop(numerical_features, axis = 1))"
      ],
      "metadata": {
        "execution": {
          "iopub.execute_input": "2024-01-30T02:10:23.993779Z",
          "iopub.status.busy": "2024-01-30T02:10:23.993442Z",
          "iopub.status.idle": "2024-01-30T02:10:24.006224Z",
          "shell.execute_reply": "2024-01-30T02:10:24.005429Z"
        },
        "papermill": {
          "duration": 0.028231,
          "end_time": "2024-01-30T02:10:24.008186",
          "exception": false,
          "start_time": "2024-01-30T02:10:23.979955",
          "status": "completed"
        },
        "tags": [],
        "id": "qdcmZD4qs6Pb"
      },
      "execution_count": null,
      "outputs": []
    },
    {
      "cell_type": "markdown",
      "source": [
        "# Preparation\n",
        "\n",
        "This is where we start preparing everything if we want to start building machine learning models."
      ],
      "metadata": {
        "papermill": {
          "duration": 0.012148,
          "end_time": "2024-01-30T02:10:24.033124",
          "exception": false,
          "start_time": "2024-01-30T02:10:24.020976",
          "status": "completed"
        },
        "tags": [],
        "id": "qosi_Zyts6Pb"
      }
    },
    {
      "cell_type": "code",
      "source": [
        "X = pd.concat([orig_train, train]).reset_index(drop = True)\n",
        "y = X.pop('Exited')\n",
        "\n",
        "orig_comp_combo = train.merge(orig_train, on = list(test), how = 'left')\n",
        "orig_comp_combo.index = train.index\n",
        "\n",
        "orig_test_combo = test.merge(orig_train, on = list(test), how = 'left')\n",
        "orig_test_combo.index = test.index\n",
        "\n",
        "seed = 42\n",
        "splits = 30\n",
        "skf = StratifiedKFold(n_splits = splits, random_state = seed, shuffle = True)\n",
        "tf.keras.utils.set_random_seed(seed)\n",
        "tf.config.experimental.enable_op_determinism()"
      ],
      "metadata": {
        "execution": {
          "iopub.execute_input": "2024-01-30T02:10:24.05937Z",
          "iopub.status.busy": "2024-01-30T02:10:24.059069Z",
          "iopub.status.idle": "2024-01-30T02:10:24.391193Z",
          "shell.execute_reply": "2024-01-30T02:10:24.390256Z"
        },
        "papermill": {
          "duration": 0.347747,
          "end_time": "2024-01-30T02:10:24.393527",
          "exception": false,
          "start_time": "2024-01-30T02:10:24.04578",
          "status": "completed"
        },
        "tags": [],
        "id": "81wUDgJRs6Pb"
      },
      "execution_count": null,
      "outputs": []
    },
    {
      "cell_type": "markdown",
      "source": [
        "# Feature Engineering"
      ],
      "metadata": {
        "papermill": {
          "duration": 0.012655,
          "end_time": "2024-01-30T02:10:24.418832",
          "exception": false,
          "start_time": "2024-01-30T02:10:24.406177",
          "status": "completed"
        },
        "tags": [],
        "id": "Rsq9Z1IXs6Pb"
      }
    },
    {
      "cell_type": "code",
      "source": [
        "def nullify(x):\n",
        "    x_copy = x.copy()\n",
        "    x_copy['Balance'] = x_copy['Balance'].replace({0 : np.nan})\n",
        "    return x_copy\n",
        "\n",
        "Nullify = FunctionTransformer(nullify)"
      ],
      "metadata": {
        "execution": {
          "iopub.execute_input": "2024-01-30T02:10:24.446046Z",
          "iopub.status.busy": "2024-01-30T02:10:24.445617Z",
          "iopub.status.idle": "2024-01-30T02:10:24.451557Z",
          "shell.execute_reply": "2024-01-30T02:10:24.450094Z"
        },
        "papermill": {
          "duration": 0.022589,
          "end_time": "2024-01-30T02:10:24.453702",
          "exception": false,
          "start_time": "2024-01-30T02:10:24.431113",
          "status": "completed"
        },
        "tags": [],
        "id": "jBq6G-USs6Pb"
      },
      "execution_count": null,
      "outputs": []
    },
    {
      "cell_type": "code",
      "source": [
        "def salary_rounder(x):\n",
        "    x_copy = x.copy()\n",
        "    x_copy['EstimatedSalary'] = (x_copy['EstimatedSalary'] * 100).astype(np.uint64)\n",
        "    return x_copy\n",
        "\n",
        "SalaryRounder = FunctionTransformer(salary_rounder)"
      ],
      "metadata": {
        "execution": {
          "iopub.execute_input": "2024-01-30T02:10:24.480579Z",
          "iopub.status.busy": "2024-01-30T02:10:24.479769Z",
          "iopub.status.idle": "2024-01-30T02:10:24.484446Z",
          "shell.execute_reply": "2024-01-30T02:10:24.483599Z"
        },
        "papermill": {
          "duration": 0.020408,
          "end_time": "2024-01-30T02:10:24.486588",
          "exception": false,
          "start_time": "2024-01-30T02:10:24.46618",
          "status": "completed"
        },
        "tags": [],
        "id": "DrhHoh6ts6Pb"
      },
      "execution_count": null,
      "outputs": []
    },
    {
      "cell_type": "code",
      "source": [
        "def age_rounder(x):\n",
        "    x_copy = x.copy()\n",
        "    x_copy['Age'] = (x_copy['Age'] * 10).astype(np.uint16)\n",
        "    return x_copy\n",
        "\n",
        "AgeRounder = FunctionTransformer(age_rounder)"
      ],
      "metadata": {
        "execution": {
          "iopub.execute_input": "2024-01-30T02:10:24.515362Z",
          "iopub.status.busy": "2024-01-30T02:10:24.514727Z",
          "iopub.status.idle": "2024-01-30T02:10:24.520451Z",
          "shell.execute_reply": "2024-01-30T02:10:24.519106Z"
        },
        "papermill": {
          "duration": 0.023741,
          "end_time": "2024-01-30T02:10:24.522889",
          "exception": false,
          "start_time": "2024-01-30T02:10:24.499148",
          "status": "completed"
        },
        "tags": [],
        "id": "6XLTuWGps6Pb"
      },
      "execution_count": null,
      "outputs": []
    },
    {
      "cell_type": "code",
      "source": [
        "def balance_rounder(x):\n",
        "    x_copy = x.copy()\n",
        "    x_copy['Balance'] = (x_copy['Balance'] * 100).astype(np.uint64)\n",
        "    return x_copy\n",
        "\n",
        "BalanceRounder = FunctionTransformer(balance_rounder)"
      ],
      "metadata": {
        "execution": {
          "iopub.execute_input": "2024-01-30T02:10:24.550103Z",
          "iopub.status.busy": "2024-01-30T02:10:24.549142Z",
          "iopub.status.idle": "2024-01-30T02:10:24.554505Z",
          "shell.execute_reply": "2024-01-30T02:10:24.553766Z"
        },
        "papermill": {
          "duration": 0.020722,
          "end_time": "2024-01-30T02:10:24.556222",
          "exception": false,
          "start_time": "2024-01-30T02:10:24.5355",
          "status": "completed"
        },
        "tags": [],
        "id": "JHVcRMlts6Pc"
      },
      "execution_count": null,
      "outputs": []
    },
    {
      "cell_type": "code",
      "source": [
        "def feature_generator(x):\n",
        "\n",
        "    x_copy = x.copy()\n",
        "    #x_copy['IsSenior'] = (x_copy['Age'] >= 600).astype(np.uint8)\n",
        "    x_copy['IsActive_by_CreditCard'] = x_copy['HasCrCard'] * x_copy['IsActiveMember']\n",
        "    x_copy['Products_Per_Tenure'] =  x_copy['Tenure'] / x_copy['NumOfProducts']\n",
        "    x_copy['ZeroBalance'] = (x_copy['Balance'] == 0).astype(np.uint8)\n",
        "    x_copy['AgeCat'] = np.round(x_copy.Age/20).astype(np.uint16)#.astype('category')\n",
        "    x_copy['AllCat'] = x_copy['Surname']+x_copy['Geography']+x_copy['Gender']+x_copy.EstimatedSalary.astype('str')+x_copy.CreditScore.astype('str')+x_copy.Age.astype('str')+x_copy.NumOfProducts.astype('str')+x_copy.Tenure.astype('str')+x_copy.CustomerId.astype('str')#+np.round(x_copy.IsActiveMember).astype('str')\n",
        "\n",
        "    return x_copy\n",
        "\n",
        "FeatureGenerator = FunctionTransformer(feature_generator)"
      ],
      "metadata": {
        "execution": {
          "iopub.execute_input": "2024-01-30T02:10:24.583122Z",
          "iopub.status.busy": "2024-01-30T02:10:24.582743Z",
          "iopub.status.idle": "2024-01-30T02:10:24.589045Z",
          "shell.execute_reply": "2024-01-30T02:10:24.588165Z"
        },
        "papermill": {
          "duration": 0.021601,
          "end_time": "2024-01-30T02:10:24.590693",
          "exception": false,
          "start_time": "2024-01-30T02:10:24.569092",
          "status": "completed"
        },
        "tags": [],
        "id": "v7p1lvm7s6Pc"
      },
      "execution_count": null,
      "outputs": []
    },
    {
      "cell_type": "code",
      "source": [
        "def svd_rounder(x):\n",
        "\n",
        "    x_copy = x.copy()\n",
        "    for col in [column for column in list(x) if 'SVD' in column]:\n",
        "        x_copy[col] = (x_copy[col] * 1e18).astype(np.int64)\n",
        "\n",
        "    return x_copy\n",
        "\n",
        "SVDRounder = FunctionTransformer(svd_rounder)"
      ],
      "metadata": {
        "execution": {
          "iopub.execute_input": "2024-01-30T02:10:24.61769Z",
          "iopub.status.busy": "2024-01-30T02:10:24.616786Z",
          "iopub.status.idle": "2024-01-30T02:10:24.62269Z",
          "shell.execute_reply": "2024-01-30T02:10:24.62139Z"
        },
        "papermill": {
          "duration": 0.021665,
          "end_time": "2024-01-30T02:10:24.624852",
          "exception": false,
          "start_time": "2024-01-30T02:10:24.603187",
          "status": "completed"
        },
        "tags": [],
        "id": "l6RddjlGs6Pc"
      },
      "execution_count": null,
      "outputs": []
    },
    {
      "cell_type": "code",
      "source": [
        "class FeatureDropper(BaseEstimator, TransformerMixin):\n",
        "\n",
        "    def __init__(self, cols):\n",
        "        self.cols = cols\n",
        "\n",
        "    def fit(self, x, y):\n",
        "        return self\n",
        "\n",
        "    def transform(self, x):\n",
        "        return x.drop(self.cols, axis = 1)"
      ],
      "metadata": {
        "execution": {
          "iopub.execute_input": "2024-01-30T02:10:24.651454Z",
          "iopub.status.busy": "2024-01-30T02:10:24.651145Z",
          "iopub.status.idle": "2024-01-30T02:10:24.656206Z",
          "shell.execute_reply": "2024-01-30T02:10:24.655251Z"
        },
        "papermill": {
          "duration": 0.020475,
          "end_time": "2024-01-30T02:10:24.657878",
          "exception": false,
          "start_time": "2024-01-30T02:10:24.637403",
          "status": "completed"
        },
        "tags": [],
        "id": "HQBoF8ads6Pc"
      },
      "execution_count": null,
      "outputs": []
    },
    {
      "cell_type": "code",
      "source": [
        "class Categorizer(BaseEstimator, TransformerMixin):\n",
        "\n",
        "    def __init__(self, cols : list):\n",
        "        self.cols = cols\n",
        "\n",
        "    def fit(self, x, y):\n",
        "        return self\n",
        "\n",
        "    def transform(self, x):\n",
        "        return x.astype({cat : 'category' for cat in self.cols})"
      ],
      "metadata": {
        "execution": {
          "iopub.execute_input": "2024-01-30T02:10:24.684579Z",
          "iopub.status.busy": "2024-01-30T02:10:24.684069Z",
          "iopub.status.idle": "2024-01-30T02:10:24.688866Z",
          "shell.execute_reply": "2024-01-30T02:10:24.688116Z"
        },
        "papermill": {
          "duration": 0.020025,
          "end_time": "2024-01-30T02:10:24.690461",
          "exception": false,
          "start_time": "2024-01-30T02:10:24.670436",
          "status": "completed"
        },
        "tags": [],
        "id": "97ceX3aZs6Pc"
      },
      "execution_count": null,
      "outputs": []
    },
    {
      "cell_type": "code",
      "source": [
        "class Vectorizer(BaseEstimator, TransformerMixin):\n",
        "\n",
        "    def __init__(self, max_features = 1000, cols = ['Surname'], n_components = 3):\n",
        "        self.max_features = max_features\n",
        "        self.cols = cols\n",
        "        self.n_components = n_components\n",
        "\n",
        "    def fit(self, x, y):\n",
        "        self.vectorizer_dict = {}\n",
        "        self.decomposer_dict = {}\n",
        "\n",
        "        for col in self.cols:\n",
        "            self.vectorizer_dict[col] = TfidfVectorizer(max_features = self.max_features).fit(x[col].astype(str), y)\n",
        "            self.decomposer_dict[col] = TruncatedSVD(random_state = seed, n_components = self.n_components).fit(\n",
        "                self.vectorizer_dict[col].transform(x[col].astype(str)), y\n",
        "            )\n",
        "\n",
        "        return self\n",
        "\n",
        "    def transform(self, x):\n",
        "        vectorized = {}\n",
        "\n",
        "        for col in self.cols:\n",
        "            vectorized[col] = self.vectorizer_dict[col].transform(x[col].astype(str))\n",
        "            vectorized[col] = self.decomposer_dict[col].transform(vectorized[col])\n",
        "\n",
        "        vectorized_df = pd.concat([pd.DataFrame(vectorized[col]).rename({\n",
        "            f'truncatedsvd{i}' : f'{col}SVD{i}' for i in range(self.n_components)\n",
        "        }, axis = 1) for col in self.cols], axis = 1)\n",
        "\n",
        "        return pd.concat([x.reset_index(drop = True), vectorized_df], axis = 1)"
      ],
      "metadata": {
        "execution": {
          "iopub.execute_input": "2024-01-30T02:10:24.717531Z",
          "iopub.status.busy": "2024-01-30T02:10:24.717076Z",
          "iopub.status.idle": "2024-01-30T02:10:24.724689Z",
          "shell.execute_reply": "2024-01-30T02:10:24.724057Z"
        },
        "papermill": {
          "duration": 0.023421,
          "end_time": "2024-01-30T02:10:24.726792",
          "exception": false,
          "start_time": "2024-01-30T02:10:24.703371",
          "status": "completed"
        },
        "tags": [],
        "id": "U-mTxejbs6Pc"
      },
      "execution_count": null,
      "outputs": []
    },
    {
      "cell_type": "markdown",
      "source": [
        "# Model Cross Validation\n",
        "\n",
        "Let's start by evaluating the performance of our model first. We will use M-Estimate Encoder and Standard Scaler in our pipeline. We will also concatenate the original dataset only during the cross-validation process for robustness."
      ],
      "metadata": {
        "papermill": {
          "duration": 0.01261,
          "end_time": "2024-01-30T02:10:24.751951",
          "exception": false,
          "start_time": "2024-01-30T02:10:24.739341",
          "status": "completed"
        },
        "tags": [],
        "id": "79RterW7s6Pc"
      }
    },
    {
      "cell_type": "code",
      "source": [
        "def cross_val_score(estimator, cv = skf, label = '', include_original = True, show_importance = False, add_reverse = False):\n",
        "\n",
        "    X = train.copy()\n",
        "    y = X.pop('Exited')\n",
        "\n",
        "    #initiate prediction arrays and score lists\n",
        "    val_predictions = np.zeros((len(X)))\n",
        "    train_scores, val_scores= [], []\n",
        "\n",
        "    feature_importances_table = pd.DataFrame({'value' : 0}, index = list(X.columns))\n",
        "\n",
        "    test_predictions = np.zeros((len(test)))\n",
        "\n",
        "    #training model, predicting prognosis probability, and evaluating metrics\n",
        "    for fold, (train_idx, val_idx) in enumerate(cv.split(X, y)):\n",
        "\n",
        "        model = clone(estimator)\n",
        "\n",
        "        #define train set\n",
        "        X_train = X.iloc[train_idx].reset_index(drop = True)\n",
        "        y_train = y.iloc[train_idx].reset_index(drop = True)\n",
        "\n",
        "        #define validation set\n",
        "        X_val = X.iloc[val_idx].reset_index(drop = True)\n",
        "        y_val = y.iloc[val_idx].reset_index(drop = True)\n",
        "\n",
        "        if include_original:\n",
        "            X_train = pd.concat([orig_train.drop('Exited', axis = 1), X_train]).reset_index(drop = True)\n",
        "            y_train = pd.concat([orig_train.Exited, y_train]).reset_index(drop = True)\n",
        "\n",
        "        if add_reverse:\n",
        "            X_train = pd.concat([X_train, X_train.iloc[::-1]]).reset_index(drop = True)\n",
        "            y_train = pd.concat([y_train, y_train.iloc[::-1]]).reset_index(drop = True)\n",
        "\n",
        "        #train model\n",
        "        model.fit(X_train, y_train)\n",
        "\n",
        "        #make predictions\n",
        "        train_preds = model.predict_proba(X_train)[:, 1]\n",
        "        val_preds = model.predict_proba(X_val)[:, 1]\n",
        "\n",
        "        val_predictions[val_idx] += val_preds\n",
        "        test_predictions += model.predict_proba(test)[:, 1] / cv.get_n_splits()\n",
        "        if show_importance:\n",
        "            feature_importances_table['value'] += permutation_importance(model, X_val, y_val, random_state = seed, scoring = make_scorer(roc_auc_score, needs_proba = True), n_repeats = 5).importances_mean / cv.get_n_splits()\n",
        "\n",
        "        #evaluate model for a fold\n",
        "        train_score = roc_auc_score(y_train, train_preds)\n",
        "        val_score = roc_auc_score(y_val, val_preds)\n",
        "\n",
        "        #print(f'Fold {fold}: {val_score:.5f}')\n",
        "\n",
        "        #append model score for a fold to list\n",
        "        train_scores.append(train_score)\n",
        "        val_scores.append(val_score)\n",
        "\n",
        "    if show_importance:\n",
        "        plt.figure(figsize = (20, 30))\n",
        "        plt.title(f'Features with Biggest Importance of {np.mean(val_scores):.5f} ± {np.std(val_scores):.5f} Model', size = 25, weight = 'bold')\n",
        "        sns.barplot(feature_importances_table.sort_values('value', ascending = False).T, orient = 'h', palette = 'viridis')\n",
        "        plt.show()\n",
        "    else:\n",
        "        print(f'Val Score: {np.mean(val_scores):.5f} ± {np.std(val_scores):.5f} | Train Score: {np.mean(train_scores):.5f} ± {np.std(train_scores):.5f} | {label}')\n",
        "\n",
        "    val_predictions = np.where(orig_comp_combo.Exited_y == 1, 0, np.where(orig_comp_combo.Exited_y == 0, 1, val_predictions))\n",
        "    test_predictions = np.where(orig_test_combo.Exited == 1, 0, np.where(orig_test_combo.Exited == 0, 1, test_predictions))\n",
        "\n",
        "    return val_scores, val_predictions, test_predictions"
      ],
      "metadata": {
        "_kg_hide-input": false,
        "execution": {
          "iopub.execute_input": "2024-01-30T02:10:24.778855Z",
          "iopub.status.busy": "2024-01-30T02:10:24.778378Z",
          "iopub.status.idle": "2024-01-30T02:10:24.791418Z",
          "shell.execute_reply": "2024-01-30T02:10:24.790249Z"
        },
        "papermill": {
          "duration": 0.02928,
          "end_time": "2024-01-30T02:10:24.793861",
          "exception": false,
          "start_time": "2024-01-30T02:10:24.764581",
          "status": "completed"
        },
        "tags": [],
        "id": "iE5rTWPKs6Pc"
      },
      "execution_count": null,
      "outputs": []
    },
    {
      "cell_type": "code",
      "source": [
        "score_list, oof_list, predict_list = pd.DataFrame(), pd.DataFrame(), pd.DataFrame()\n",
        "\n",
        "cat_features = ['CustomerId', 'Surname', 'EstimatedSalary', 'Geography', 'Gender', 'Tenure', 'Age', 'NumOfProducts', 'IsActiveMember', 'CreditScore', 'AllCat', 'IsActive_by_CreditCard']"
      ],
      "metadata": {
        "execution": {
          "iopub.execute_input": "2024-01-30T02:10:24.820029Z",
          "iopub.status.busy": "2024-01-30T02:10:24.819646Z",
          "iopub.status.idle": "2024-01-30T02:10:24.826085Z",
          "shell.execute_reply": "2024-01-30T02:10:24.82516Z"
        },
        "papermill": {
          "duration": 0.021453,
          "end_time": "2024-01-30T02:10:24.827695",
          "exception": false,
          "start_time": "2024-01-30T02:10:24.806242",
          "status": "completed"
        },
        "tags": [],
        "id": "r6npQ-zFs6Pd"
      },
      "execution_count": null,
      "outputs": []
    },
    {
      "cell_type": "markdown",
      "source": [
        "# Logistic Regression"
      ],
      "metadata": {
        "papermill": {
          "duration": 0.01163,
          "end_time": "2024-01-30T02:10:24.851636",
          "exception": false,
          "start_time": "2024-01-30T02:10:24.840006",
          "status": "completed"
        },
        "tags": [],
        "id": "I4bm0Mfrs6Pd"
      }
    },
    {
      "cell_type": "code",
      "source": [
        "Log = make_pipeline(\n",
        "    SalaryRounder,\n",
        "    AgeRounder,\n",
        "    FeatureGenerator,\n",
        "    Vectorizer(cols = ['Surname', 'AllCat', 'EstimatedSalary', 'CreditScore'], max_features = 500, n_components = 4),\n",
        "    CatBoostEncoder(cols = cat_features + [f'SurnameSVD{i}' for i in range(4)]),# + [f'AllCatSVD{i}' for i in range(6)] + [f'EstimatedSalarySVD{i}' for i in range(6)] + [f'CreditScoreSVD{i}' for i in range(6)]),\n",
        "    StandardScaler(),\n",
        "    LogisticRegression(random_state = seed, max_iter = 1000000000)\n",
        ")\n",
        "\n",
        "_, oof_list['Log'], predict_list['Log'] = cross_val_score(Log)"
      ],
      "metadata": {
        "execution": {
          "iopub.execute_input": "2024-01-30T02:10:24.877128Z",
          "iopub.status.busy": "2024-01-30T02:10:24.876517Z",
          "iopub.status.idle": "2024-01-30T02:20:40.864218Z",
          "shell.execute_reply": "2024-01-30T02:20:40.862754Z"
        },
        "papermill": {
          "duration": 616.017179,
          "end_time": "2024-01-30T02:20:40.880824",
          "exception": false,
          "start_time": "2024-01-30T02:10:24.863645",
          "status": "completed"
        },
        "tags": [],
        "id": "grGplRUes6Pd"
      },
      "execution_count": null,
      "outputs": []
    },
    {
      "cell_type": "markdown",
      "source": [
        "# Tensorflow"
      ],
      "metadata": {
        "papermill": {
          "duration": 0.012221,
          "end_time": "2024-01-30T02:20:40.905634",
          "exception": false,
          "start_time": "2024-01-30T02:20:40.893413",
          "status": "completed"
        },
        "tags": [],
        "id": "iV31srtWs6Pd"
      }
    },
    {
      "cell_type": "code",
      "source": [
        "class TensorFlower(BaseEstimator, ClassifierMixin):\n",
        "\n",
        "    def fit(self, x, y):\n",
        "        inputs = tf.keras.Input((x.shape[1]))\n",
        "        inputs_norm = tf.keras.layers.BatchNormalization()(inputs)\n",
        "\n",
        "        z = tf.keras.layers.Dense(32)(inputs_norm)\n",
        "        z = tf.keras.layers.BatchNormalization()(z)\n",
        "        z = tf.keras.layers.LeakyReLU()(z)\n",
        "        #z = tf.keras.layers.Dropout(.4)(z)\n",
        "\n",
        "        z = tf.keras.layers.Dense(64)(z)\n",
        "        z = tf.keras.layers.BatchNormalization()(z)\n",
        "        z = tf.keras.layers.LeakyReLU()(z)\n",
        "        #z = tf.keras.layers.Dropout(.4)(z)\n",
        "\n",
        "        z = tf.keras.layers.Dense(16)(z)\n",
        "        z = tf.keras.layers.BatchNormalization()(z)\n",
        "        z = tf.keras.layers.LeakyReLU()(z)\n",
        "        #z = tf.keras.layers.Dropout(.4)(z)\n",
        "\n",
        "        z = tf.keras.layers.Dense(4)(z)\n",
        "        z = tf.keras.layers.BatchNormalization()(z)\n",
        "        z = tf.keras.layers.LeakyReLU()(z)\n",
        "        #z = tf.keras.layers.Dropout(.4)(z)\n",
        "\n",
        "        z = tf.keras.layers.Dense(1)(z)\n",
        "        z = tf.keras.layers.BatchNormalization()(z)\n",
        "        outputs = tf.keras.activations.sigmoid(z)\n",
        "\n",
        "        self.model = tf.keras.Model(inputs, outputs)\n",
        "        self.model.compile(loss = 'binary_crossentropy', optimizer = tf.keras.optimizers.AdamW(1e-4))\n",
        "\n",
        "        self.model.fit(x.to_numpy(), y, epochs = 10, verbose = 0)\n",
        "        self.classes_ = np.unique(y)\n",
        "\n",
        "        return self\n",
        "    def predict_proba(self, x):\n",
        "        predictions = np.zeros((len(x), 2))\n",
        "        predictions[:, 1] = self.model.predict(x, verbose = 0)[:, 0]\n",
        "        predictions[:, 0] = 1 - predictions[:, 1]\n",
        "        return predictions\n",
        "    def predict(self, x):\n",
        "        return np.argmax(self.predict_proba(x), axis = 1)"
      ],
      "metadata": {
        "execution": {
          "iopub.execute_input": "2024-01-30T02:20:40.932947Z",
          "iopub.status.busy": "2024-01-30T02:20:40.932116Z",
          "iopub.status.idle": "2024-01-30T02:20:40.942757Z",
          "shell.execute_reply": "2024-01-30T02:20:40.941808Z"
        },
        "papermill": {
          "duration": 0.02626,
          "end_time": "2024-01-30T02:20:40.944751",
          "exception": false,
          "start_time": "2024-01-30T02:20:40.918491",
          "status": "completed"
        },
        "tags": [],
        "id": "jzjgLZHvs6Pd"
      },
      "execution_count": null,
      "outputs": []
    },
    {
      "cell_type": "code",
      "source": [
        "TensorFlowey = make_pipeline(\n",
        "    SalaryRounder,\n",
        "    AgeRounder,\n",
        "    FeatureGenerator,\n",
        "    #Vectorizer(cols = ['Surname', 'AllCat', 'EstimatedSalary', 'CreditScore'], max_features = 500, n_components = 6),\n",
        "    CatBoostEncoder(cols = cat_features),\n",
        "    TensorFlower()\n",
        ")\n",
        "\n",
        "_, oof_list['TF'], predict_list['TF'] = cross_val_score(TensorFlowey)"
      ],
      "metadata": {
        "execution": {
          "iopub.execute_input": "2024-01-30T02:20:41.016874Z",
          "iopub.status.busy": "2024-01-30T02:20:41.01632Z",
          "iopub.status.idle": "2024-01-30T03:52:38.513963Z",
          "shell.execute_reply": "2024-01-30T03:52:38.512963Z"
        },
        "papermill": {
          "duration": 5517.525611,
          "end_time": "2024-01-30T03:52:38.527597",
          "exception": false,
          "start_time": "2024-01-30T02:20:41.001986",
          "status": "completed"
        },
        "tags": [],
        "id": "uhsSN_WMs6Pd"
      },
      "execution_count": null,
      "outputs": []
    },
    {
      "cell_type": "markdown",
      "source": [
        "# XGBoost"
      ],
      "metadata": {
        "papermill": {
          "duration": 0.011834,
          "end_time": "2024-01-30T03:52:38.552519",
          "exception": false,
          "start_time": "2024-01-30T03:52:38.540685",
          "status": "completed"
        },
        "tags": [],
        "id": "FKNrraPYs6Pd"
      }
    },
    {
      "cell_type": "code",
      "source": [
        "def xgb_objective(trial):\n",
        "    params = {\n",
        "        'eta' : trial.suggest_float('eta', .001, .3, log = True),\n",
        "        'max_depth' : trial.suggest_int('max_depth', 2, 30),\n",
        "        'subsample' : trial.suggest_float('subsample', .5, 1),\n",
        "        'colsample_bytree' : trial.suggest_float('colsample_bytree', .1, 1),\n",
        "        'min_child_weight' : trial.suggest_float('min_child_weight', .1, 20, log = True),\n",
        "        'reg_lambda' : trial.suggest_float('reg_lambda', .01, 20, log = True),\n",
        "        'reg_alpha' : trial.suggest_float('reg_alpha', .01, 10, log = True),\n",
        "        'n_estimators' : 1000,\n",
        "        'random_state' : seed,\n",
        "        'tree_method' : 'hist',\n",
        "    }\n",
        "\n",
        "    optuna_model = make_pipeline(\n",
        "        SalaryRounder,\n",
        "        AgeRounder,\n",
        "        FeatureGenerator,\n",
        "        Vectorizer(cols = ['Surname', 'AllCat', 'EstimatedSalary', 'CustomerId'], max_features = 1000, n_components = 3),\n",
        "        CatBoostEncoder(cols = ['CustomerId', 'Surname', 'EstimatedSalary', 'AllCat', 'CreditScore']),\n",
        "        MEstimateEncoder(cols = ['Geography', 'Gender']),\n",
        "        XGBClassifier(**params)\n",
        "    )\n",
        "\n",
        "    optuna_score, _, _ = cross_val_score(optuna_model)\n",
        "\n",
        "    return np.mean(optuna_score)\n",
        "\n",
        "xgb_study = optuna.create_study(direction = 'maximize')"
      ],
      "metadata": {
        "execution": {
          "iopub.execute_input": "2024-01-30T03:52:38.578669Z",
          "iopub.status.busy": "2024-01-30T03:52:38.57835Z",
          "iopub.status.idle": "2024-01-30T03:52:38.587259Z",
          "shell.execute_reply": "2024-01-30T03:52:38.586248Z"
        },
        "papermill": {
          "duration": 0.024363,
          "end_time": "2024-01-30T03:52:38.589065",
          "exception": false,
          "start_time": "2024-01-30T03:52:38.564702",
          "status": "completed"
        },
        "tags": [],
        "id": "61k831Wjs6Pd"
      },
      "execution_count": null,
      "outputs": []
    },
    {
      "cell_type": "code",
      "source": [
        "#xgb_study.optimize(xgb_objective, 50)"
      ],
      "metadata": {
        "execution": {
          "iopub.execute_input": "2024-01-30T03:52:38.614646Z",
          "iopub.status.busy": "2024-01-30T03:52:38.61435Z",
          "iopub.status.idle": "2024-01-30T03:52:38.618265Z",
          "shell.execute_reply": "2024-01-30T03:52:38.617326Z"
        },
        "papermill": {
          "duration": 0.019028,
          "end_time": "2024-01-30T03:52:38.620257",
          "exception": false,
          "start_time": "2024-01-30T03:52:38.601229",
          "status": "completed"
        },
        "tags": [],
        "id": "-9xReBGys6Pe"
      },
      "execution_count": null,
      "outputs": []
    },
    {
      "cell_type": "code",
      "source": [
        "xgb_params = {'eta': 0.04007938900538817, 'max_depth': 5, 'subsample': 0.8858539721226424, 'colsample_bytree': 0.41689519430449395, 'min_child_weight': 0.4225662401139526, 'reg_lambda': 1.7610231110037127, 'reg_alpha': 1.993860687732973}\n",
        "\n",
        "XGB = make_pipeline(\n",
        "    SalaryRounder,\n",
        "    AgeRounder,\n",
        "    FeatureGenerator,\n",
        "    Vectorizer(cols = ['Surname', 'AllCat', 'EstimatedSalary', 'CustomerId'], max_features = 1000, n_components = 3),\n",
        "    CatBoostEncoder(cols = ['CustomerId', 'Surname', 'EstimatedSalary', 'AllCat', 'CreditScore']),\n",
        "    MEstimateEncoder(cols = ['Geography', 'Gender']),\n",
        "    XGBClassifier(**xgb_params, random_state = seed, tree_method = 'hist', n_estimators = 1000)\n",
        ")\n",
        "\n",
        "_, oof_list['XGB'], predict_list['XGB'] = cross_val_score(XGB, show_importance = False)"
      ],
      "metadata": {
        "execution": {
          "iopub.execute_input": "2024-01-30T03:52:38.647529Z",
          "iopub.status.busy": "2024-01-30T03:52:38.646419Z",
          "iopub.status.idle": "2024-01-30T04:11:16.923884Z",
          "shell.execute_reply": "2024-01-30T04:11:16.922713Z"
        },
        "papermill": {
          "duration": 1118.30541,
          "end_time": "2024-01-30T04:11:16.937883",
          "exception": false,
          "start_time": "2024-01-30T03:52:38.632473",
          "status": "completed"
        },
        "tags": [],
        "id": "RGuKL02ys6Pe"
      },
      "execution_count": null,
      "outputs": []
    },
    {
      "cell_type": "markdown",
      "source": [
        "# LightGBM"
      ],
      "metadata": {
        "papermill": {
          "duration": 0.013014,
          "end_time": "2024-01-30T04:11:16.963723",
          "exception": false,
          "start_time": "2024-01-30T04:11:16.950709",
          "status": "completed"
        },
        "tags": [],
        "id": "OieG7zPOs6Pl"
      }
    },
    {
      "cell_type": "code",
      "source": [
        "def lgb_objective(trial):\n",
        "    params = {\n",
        "        'learning_rate' : trial.suggest_float('learning_rate', .001, .1, log = True),\n",
        "        'max_depth' : trial.suggest_int('max_depth', 2, 20),\n",
        "        'subsample' : trial.suggest_float('subsample', .5, 1),\n",
        "        'min_child_weight' : trial.suggest_float('min_child_weight', .1, 15, log = True),\n",
        "        'reg_lambda' : trial.suggest_float('reg_lambda', .1, 20, log = True),\n",
        "        'reg_alpha' : trial.suggest_float('reg_alpha', .1, 10, log = True),\n",
        "        'n_estimators' : 1000,\n",
        "        'random_state' : seed,\n",
        "        #'boosting_type' : 'dart',\n",
        "    }\n",
        "\n",
        "    optuna_model = make_pipeline(\n",
        "        SalaryRounder,\n",
        "        AgeRounder,\n",
        "        FeatureGenerator,\n",
        "        Vectorizer(cols = ['Surname', 'AllCat'], max_features = 1000, n_components = 3),\n",
        "        CatBoostEncoder(cols = ['Surname', 'AllCat', 'CreditScore', 'Age']),\n",
        "        MEstimateEncoder(cols = ['Geography', 'Gender', 'NumOfProducts']),\n",
        "        StandardScaler(),\n",
        "        LGBMClassifier(**params)\n",
        "    )\n",
        "\n",
        "    optuna_score, _, _ = cross_val_score(optuna_model)\n",
        "\n",
        "    return np.mean(optuna_score)\n",
        "\n",
        "lgb_study = optuna.create_study(direction = 'maximize')"
      ],
      "metadata": {
        "execution": {
          "iopub.execute_input": "2024-01-30T04:11:16.990564Z",
          "iopub.status.busy": "2024-01-30T04:11:16.990209Z",
          "iopub.status.idle": "2024-01-30T04:11:17.000016Z",
          "shell.execute_reply": "2024-01-30T04:11:16.998616Z"
        },
        "papermill": {
          "duration": 0.026091,
          "end_time": "2024-01-30T04:11:17.002339",
          "exception": false,
          "start_time": "2024-01-30T04:11:16.976248",
          "status": "completed"
        },
        "tags": [],
        "id": "mk7B72F-s6Pm"
      },
      "execution_count": null,
      "outputs": []
    },
    {
      "cell_type": "code",
      "source": [
        "#lgb_study.optimize(lgb_objective, 100)"
      ],
      "metadata": {
        "execution": {
          "iopub.execute_input": "2024-01-30T04:11:17.030011Z",
          "iopub.status.busy": "2024-01-30T04:11:17.029654Z",
          "iopub.status.idle": "2024-01-30T04:11:17.03435Z",
          "shell.execute_reply": "2024-01-30T04:11:17.033147Z"
        },
        "papermill": {
          "duration": 0.021904,
          "end_time": "2024-01-30T04:11:17.036996",
          "exception": false,
          "start_time": "2024-01-30T04:11:17.015092",
          "status": "completed"
        },
        "tags": [],
        "id": "1CbryXiks6Pm"
      },
      "execution_count": null,
      "outputs": []
    },
    {
      "cell_type": "code",
      "source": [
        "lgb_params = {'learning_rate': 0.01864960338160943, 'max_depth': 9, 'subsample': 0.6876252164703066, 'min_child_weight': 0.8117588782708633, 'reg_lambda': 6.479178739677389, 'reg_alpha': 3.2952573115561234}\n",
        "\n",
        "LGB = make_pipeline(\n",
        "    SalaryRounder,\n",
        "    AgeRounder,\n",
        "    FeatureGenerator,\n",
        "    Vectorizer(cols = ['Surname', 'AllCat'], max_features = 1000, n_components = 3),\n",
        "    CatBoostEncoder(cols = ['Surname', 'AllCat', 'CreditScore', 'Age']),\n",
        "    MEstimateEncoder(cols = ['Geography', 'Gender', 'NumOfProducts']),\n",
        "    StandardScaler(),\n",
        "    LGBMClassifier(**lgb_params, random_state = seed, n_estimators = 1000)\n",
        ")\n",
        "\n",
        "_, oof_list['LGB'], predict_list['LGB'] = cross_val_score(LGB, show_importance = False)"
      ],
      "metadata": {
        "execution": {
          "iopub.execute_input": "2024-01-30T04:11:17.137233Z",
          "iopub.status.busy": "2024-01-30T04:11:17.136738Z",
          "iopub.status.idle": "2024-01-30T04:32:50.268469Z",
          "shell.execute_reply": "2024-01-30T04:32:50.267412Z"
        },
        "papermill": {
          "duration": 1293.231267,
          "end_time": "2024-01-30T04:32:50.282626",
          "exception": false,
          "start_time": "2024-01-30T04:11:17.051359",
          "status": "completed"
        },
        "tags": [],
        "id": "PEM50Psfs6Pm"
      },
      "execution_count": null,
      "outputs": []
    },
    {
      "cell_type": "markdown",
      "source": [
        "# CatBoost"
      ],
      "metadata": {
        "papermill": {
          "duration": 0.0131,
          "end_time": "2024-01-30T04:32:50.309573",
          "exception": false,
          "start_time": "2024-01-30T04:32:50.296473",
          "status": "completed"
        },
        "tags": [],
        "id": "2nkkkQdns6Pm"
      }
    },
    {
      "cell_type": "code",
      "source": [
        "CB = make_pipeline(\n",
        "    SalaryRounder,\n",
        "    AgeRounder,\n",
        "    FeatureGenerator,\n",
        "    Vectorizer(cols = ['Surname', 'AllCat'], max_features = 1000, n_components = 4),\n",
        "    SVDRounder,\n",
        "    CatBoostClassifier(random_state = seed, verbose = 0, cat_features = cat_features + [f'SurnameSVD{i}' for i in range(4)], has_time = True)\n",
        ")\n",
        "\n",
        "_, oof_list['CB'], predict_list['CB'] = cross_val_score(CB, show_importance = False)"
      ],
      "metadata": {
        "execution": {
          "iopub.execute_input": "2024-01-30T04:32:50.337582Z",
          "iopub.status.busy": "2024-01-30T04:32:50.337235Z",
          "iopub.status.idle": "2024-01-30T07:22:20.466634Z",
          "shell.execute_reply": "2024-01-30T07:22:20.46476Z"
        },
        "papermill": {
          "duration": 10170.159848,
          "end_time": "2024-01-30T07:22:20.482501",
          "exception": false,
          "start_time": "2024-01-30T04:32:50.322653",
          "status": "completed"
        },
        "tags": [],
        "id": "rLWWL8uGs6Pm"
      },
      "execution_count": null,
      "outputs": []
    },
    {
      "cell_type": "code",
      "source": [
        "CB_Bayes = make_pipeline(\n",
        "    SalaryRounder,\n",
        "    AgeRounder,\n",
        "    FeatureGenerator,\n",
        "    Vectorizer(cols = ['Surname', 'AllCat'], max_features = 1000, n_components = 4),\n",
        "    SVDRounder,\n",
        "    CatBoostClassifier(random_state = seed, verbose = 0, cat_features = cat_features + [f'SurnameSVD{i}' for i in range(4)], bootstrap_type = 'Bayesian', has_time = True)\n",
        ")\n",
        "\n",
        "_, oof_list['CB_Bayes'], predict_list['CB_Bayes'] = cross_val_score(CB_Bayes, show_importance = False)"
      ],
      "metadata": {
        "execution": {
          "iopub.execute_input": "2024-01-30T07:22:20.509273Z",
          "iopub.status.busy": "2024-01-30T07:22:20.508973Z",
          "iopub.status.idle": "2024-01-30T10:23:49.594319Z",
          "shell.execute_reply": "2024-01-30T10:23:49.592668Z"
        },
        "papermill": {
          "duration": 10889.115027,
          "end_time": "2024-01-30T10:23:49.610098",
          "exception": false,
          "start_time": "2024-01-30T07:22:20.495071",
          "status": "completed"
        },
        "tags": [],
        "id": "O09go25Us6Pm"
      },
      "execution_count": null,
      "outputs": []
    },
    {
      "cell_type": "code",
      "source": [
        "CB_Bernoulli = make_pipeline(\n",
        "    SalaryRounder,\n",
        "    AgeRounder,\n",
        "    FeatureGenerator,\n",
        "    Vectorizer(cols = ['Surname', 'AllCat'], max_features = 1000, n_components = 4),\n",
        "    SVDRounder,\n",
        "    CatBoostClassifier(random_state = seed, verbose = 0, cat_features = cat_features + [f'SurnameSVD{i}' for i in range(4)], bootstrap_type = 'Bernoulli', has_time = True)\n",
        ")\n",
        "\n",
        "_, oof_list['CB_Bernoulli'], predict_list['CB_Bernoulli'] = cross_val_score(CB_Bernoulli, show_importance = False)"
      ],
      "metadata": {
        "execution": {
          "iopub.execute_input": "2024-01-30T10:23:49.638958Z",
          "iopub.status.busy": "2024-01-30T10:23:49.638587Z",
          "iopub.status.idle": "2024-01-30T13:13:26.077535Z",
          "shell.execute_reply": "2024-01-30T13:13:26.076162Z"
        },
        "papermill": {
          "duration": 10176.469522,
          "end_time": "2024-01-30T13:13:26.093152",
          "exception": false,
          "start_time": "2024-01-30T10:23:49.62363",
          "status": "completed"
        },
        "tags": [],
        "id": "7fCrAY8Is6Pm"
      },
      "execution_count": null,
      "outputs": []
    },
    {
      "cell_type": "markdown",
      "source": [
        "# Voting Ensemble"
      ],
      "metadata": {
        "papermill": {
          "duration": 0.012707,
          "end_time": "2024-01-30T13:13:26.263247",
          "exception": false,
          "start_time": "2024-01-30T13:13:26.25054",
          "status": "completed"
        },
        "tags": [],
        "id": "fFiFTzMNs6Pm"
      }
    },
    {
      "cell_type": "code",
      "source": [
        "weights = RidgeClassifier(random_state = seed).fit(oof_list, train.Exited).coef_[0]\n",
        "weights /= weights.sum()\n",
        "pd.DataFrame(weights, index = list(oof_list), columns = ['weight per model'])"
      ],
      "metadata": {
        "execution": {
          "iopub.execute_input": "2024-01-30T13:13:26.293649Z",
          "iopub.status.busy": "2024-01-30T13:13:26.293313Z",
          "iopub.status.idle": "2024-01-30T13:13:26.350997Z",
          "shell.execute_reply": "2024-01-30T13:13:26.350055Z"
        },
        "papermill": {
          "duration": 0.076089,
          "end_time": "2024-01-30T13:13:26.353603",
          "exception": false,
          "start_time": "2024-01-30T13:13:26.277514",
          "status": "completed"
        },
        "tags": [],
        "id": "vFHk6EHus6Pn"
      },
      "execution_count": null,
      "outputs": []
    },
    {
      "cell_type": "code",
      "source": [
        "#_, ensemble_oof, predictions = cross_val_score(voter, show_importance = False)\n",
        "print(f'Score: {(roc_auc_score(train.Exited, oof_list.to_numpy() @ weights)):.5f}')\n",
        "predictions = predict_list.to_numpy() @ weights"
      ],
      "metadata": {
        "execution": {
          "iopub.execute_input": "2024-01-30T13:13:26.388747Z",
          "iopub.status.busy": "2024-01-30T13:13:26.388407Z",
          "iopub.status.idle": "2024-01-30T13:13:26.459756Z",
          "shell.execute_reply": "2024-01-30T13:13:26.459011Z"
        },
        "papermill": {
          "duration": 0.091348,
          "end_time": "2024-01-30T13:13:26.46186",
          "exception": false,
          "start_time": "2024-01-30T13:13:26.370512",
          "status": "completed"
        },
        "tags": [],
        "id": "jqpb9-sJs6Pn"
      },
      "execution_count": null,
      "outputs": []
    },
    {
      "cell_type": "markdown",
      "source": [
        "# Submission"
      ],
      "metadata": {
        "papermill": {
          "duration": 0.018992,
          "end_time": "2024-01-30T13:13:26.49865",
          "exception": false,
          "start_time": "2024-01-30T13:13:26.479658",
          "status": "completed"
        },
        "tags": [],
        "id": "yB7RL7KVs6Pn"
      }
    },
    {
      "cell_type": "code",
      "source": [
        "submission = test.copy()\n",
        "submission['Exited'] = np.where(orig_test_combo.Exited == 1, 0, np.where(orig_test_combo.Exited == 0, 1, predictions))\n",
        "\n",
        "submission.Exited.to_csv('submission.csv')"
      ],
      "metadata": {
        "execution": {
          "iopub.execute_input": "2024-01-30T13:13:26.535882Z",
          "iopub.status.busy": "2024-01-30T13:13:26.53487Z",
          "iopub.status.idle": "2024-01-30T13:13:26.777132Z",
          "shell.execute_reply": "2024-01-30T13:13:26.776078Z"
        },
        "papermill": {
          "duration": 0.263108,
          "end_time": "2024-01-30T13:13:26.779363",
          "exception": false,
          "start_time": "2024-01-30T13:13:26.516255",
          "status": "completed"
        },
        "tags": [],
        "id": "WQb_G0BHs6Pn"
      },
      "execution_count": null,
      "outputs": []
    },
    {
      "cell_type": "code",
      "source": [
        "plt.figure(figsize = (15, 10), dpi = 300)\n",
        "sns.kdeplot(submission.Exited, fill = True)\n",
        "plt.title(\"Distribution of Customer Churn Probability\", weight = 'bold', size = 25)\n",
        "plt.show()"
      ],
      "metadata": {
        "_kg_hide-input": true,
        "execution": {
          "iopub.execute_input": "2024-01-30T13:13:26.810185Z",
          "iopub.status.busy": "2024-01-30T13:13:26.809126Z",
          "iopub.status.idle": "2024-01-30T13:13:28.349497Z",
          "shell.execute_reply": "2024-01-30T13:13:28.348093Z"
        },
        "papermill": {
          "duration": 1.558689,
          "end_time": "2024-01-30T13:13:28.351894",
          "exception": false,
          "start_time": "2024-01-30T13:13:26.793205",
          "status": "completed"
        },
        "tags": [],
        "id": "IMbTGEzps6Pn"
      },
      "execution_count": null,
      "outputs": []
    },
    {
      "cell_type": "markdown",
      "source": [
        "Thanks for reading!"
      ],
      "metadata": {
        "papermill": {
          "duration": 0.015429,
          "end_time": "2024-01-30T13:13:28.383227",
          "exception": false,
          "start_time": "2024-01-30T13:13:28.367798",
          "status": "completed"
        },
        "tags": [],
        "id": "m-Ho2OZas6Pn"
      }
    }
  ]
}